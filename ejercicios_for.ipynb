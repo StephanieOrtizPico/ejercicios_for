{
  "nbformat": 4,
  "nbformat_minor": 0,
  "metadata": {
    "colab": {
      "provenance": [],
      "authorship_tag": "ABX9TyNto5ITZzziQmIQhIpJyv/6",
      "include_colab_link": true
    },
    "kernelspec": {
      "name": "python3",
      "display_name": "Python 3"
    },
    "language_info": {
      "name": "python"
    }
  },
  "cells": [
    {
      "cell_type": "markdown",
      "metadata": {
        "id": "view-in-github",
        "colab_type": "text"
      },
      "source": [
        "<a href=\"https://colab.research.google.com/github/StephanieOrtizPico/ejercicios_for/blob/main/ejercicios_for.ipynb\" target=\"_parent\"><img src=\"https://colab.research.google.com/assets/colab-badge.svg\" alt=\"Open In Colab\"/></a>"
      ]
    },
    {
      "cell_type": "markdown",
      "source": [
        "# INSTRUCCIÓN REPETITIVA FOR"
      ],
      "metadata": {
        "id": "hw8O4_FBq6Yk"
      }
    },
    {
      "cell_type": "code",
      "execution_count": null,
      "metadata": {
        "id": "5xwNrXkrqXcH"
      },
      "outputs": [],
      "source": [
        "# EJERCICIO 1: mostrar los números del 1 al 10, sin usar instrucciones repetitivas\n",
        "\n",
        "print(1)\n",
        "print(2)\n",
        "print(3)\n",
        "print(4)\n",
        "print(5)\n",
        "print(6)\n",
        "print(7)\n",
        "print(8)\n",
        "print(9)\n",
        "print(10)"
      ]
    },
    {
      "cell_type": "code",
      "source": [
        "# EJERCICIO 2: mostrar los números del 1 al 10, usando la instrucción repetitiva while\n",
        "\n",
        "contador = 1\n",
        "print(contador)\n",
        "while contador <10:\n",
        "  #contador = contador + 1\n",
        "  contador += 1\n",
        "  print(contador)"
      ],
      "metadata": {
        "id": "0v4U6Y6stbxK"
      },
      "execution_count": null,
      "outputs": []
    },
    {
      "cell_type": "code",
      "source": [
        "# EJERCICIO 3: mostrar los números del 1 al 10, usando la instrucción for y una lista como iterable\n",
        "\n",
        "for i in [1,2,3,4,5,6,7,8,9,10]:\n",
        "  print(i)"
      ],
      "metadata": {
        "id": "xFk7sfLSvO10"
      },
      "execution_count": null,
      "outputs": []
    },
    {
      "cell_type": "code",
      "source": [
        "# EJERCICIO 4: mostrar lo números del 1 al 10, usando la instrucción for y la función range\n",
        "\n",
        "for i in range(1,11):\n",
        "  print(i)"
      ],
      "metadata": {
        "id": "UcuvCb3Vwu6w"
      },
      "execution_count": null,
      "outputs": []
    },
    {
      "cell_type": "code",
      "source": [
        "# EJERCICIO 5: mostrar una frase 10 veces, usando la instrucción for y una lista\n",
        "\n",
        "lista = [1,2,3,4,5,6,7,8,9,10]\n",
        "for i in lista:\n",
        "  print(f\"{i} Sistemas, la mejor!!!\")"
      ],
      "metadata": {
        "id": "jWBkTHqExmCK"
      },
      "execution_count": null,
      "outputs": []
    },
    {
      "cell_type": "code",
      "source": [
        "# EJERCICIO 6: mostrar la silaba inicial de los dias de la semana, usando for y  una lista con la silaba inicial de los dias de la semana\n",
        "\n",
        "dias_semana = [\"lu\", \"ma\", \"mi\", \"ju\", \"vi\", \"sa\", \"do\"]\n",
        "for i in dias_semana:\n",
        "  print(i)"
      ],
      "metadata": {
        "id": "nW2fZtjByjqe"
      },
      "execution_count": null,
      "outputs": []
    },
    {
      "cell_type": "code",
      "source": [
        "# EJERCICIO 7: mostrar una lista de distintos tipos de datos, usando for\n",
        "\n",
        "lista = [1, 3.4, 9, True, \"Nestor\", 8, \"Guanentá\"]\n",
        "for i in lista:\n",
        "  print(i)"
      ],
      "metadata": {
        "id": "8lMsy85gzdzf"
      },
      "execution_count": null,
      "outputs": []
    },
    {
      "cell_type": "code",
      "source": [
        "# Ejercicio 8: ingresar su nómbre y mostrarlo letra a letra usando for\n",
        "\n",
        "nombre = input(\"Digite su nombre: \")\n",
        "for letra in nombre:\n",
        "  print(letra)"
      ],
      "metadata": {
        "id": "gWJrC7gsz_gg"
      },
      "execution_count": null,
      "outputs": []
    },
    {
      "cell_type": "code",
      "source": [
        "# EJERCICIO 9: ingresar su nombre y mostrarlo letra a letra, usando for, cambiando por asterisco * a la vocal e\n",
        "\n",
        "nombre = input(\"Digite su nombre: \")\n",
        "for letra in nombre:\n",
        "  if letra == 'e':\n",
        "    print(\"*\")\n",
        "  else:\n",
        "    print(letra)"
      ],
      "metadata": {
        "id": "wO5QEbOu0_bF"
      },
      "execution_count": null,
      "outputs": []
    },
    {
      "cell_type": "code",
      "source": [
        "# EJERCICIO 10: ingresar su nombre y mostrarlo letra a letra, en mayúscula, usando for\n",
        "\n",
        "nombre = input(\"Digite su nombre: \")\n",
        "for letra in nombre:\n",
        "  print(letra.upper())"
      ],
      "metadata": {
        "id": "s6EURL1EADBE"
      },
      "execution_count": null,
      "outputs": []
    },
    {
      "cell_type": "code",
      "source": [
        "# EJERCICIO 11: imprimir listas de números usando for y range\n",
        "\n",
        "print(\"Números del 0 al 9\")\n",
        "for i in range(10):\n",
        "  print(i)\n",
        "\n",
        "print(\"Números del 1 al 10\")\n",
        "for i in range(1,11):\n",
        "  print(i)\n",
        "\n",
        "print(\"10 veces la frase\")\n",
        "for i in range(10):\n",
        "  print(\"Sistemas la mejor\")\n",
        "\n",
        "print(\"10 veces la frase i = \")\n",
        "for i in range(10):\n",
        "  print(\"i = \" + str(i))\n",
        "\n",
        "print(\"10 veces la frase i = \")\n",
        "for i in range(10):\n",
        "  print(f\" i = {i}\")\n",
        "\n",
        "print(\"Rango del 7 al 18, incrementando de 4 en 4\")\n",
        "for i in range(7, 19, 4):\n",
        "  print(i)\n",
        "\n",
        "print(\"Convierte rango en lista a, y la muestra\")\n",
        "a = list(range(1000))\n",
        "print(a)"
      ],
      "metadata": {
        "id": "41aQavQQBJlA"
      },
      "execution_count": null,
      "outputs": []
    }
  ]
}